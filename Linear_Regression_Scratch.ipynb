{
 "cells": [
  {
   "cell_type": "code",
   "execution_count": 73,
   "metadata": {},
   "outputs": [],
   "source": [
    "import pandas as pd\n",
    "import numpy as np\n",
    "import matplotlib.pyplot as plt\n",
    "from sklearn.datasets import make_regression, make_blobs\n",
    "from sklearn.metrics import mean_squared_error\n",
    "from sklearn.model_selection import train_test_split"
   ]
  },
  {
   "cell_type": "code",
   "execution_count": 217,
   "metadata": {},
   "outputs": [],
   "source": [
    "data=pd.read_csv(\"E:/Dataset/train_linear.csv\") # to read dataset\n",
    "data.dropna(inplace=True) #to remove Nan values\n",
    "x=data.iloc[:,0]\n",
    "y=data.iloc[:,1]"
   ]
  },
  {
   "cell_type": "code",
   "execution_count": 219,
   "metadata": {},
   "outputs": [
    {
     "name": "stdout",
     "output_type": "stream",
     "text": [
      "<class 'pandas.core.frame.DataFrame'>\n",
      "Int64Index: 699 entries, 0 to 699\n",
      "Data columns (total 2 columns):\n",
      " #   Column  Non-Null Count  Dtype  \n",
      "---  ------  --------------  -----  \n",
      " 0   x       699 non-null    float64\n",
      " 1   y       699 non-null    float64\n",
      "dtypes: float64(2)\n",
      "memory usage: 16.4 KB\n"
     ]
    }
   ],
   "source": [
    "data.info() # give info about non-null count"
   ]
  },
  {
   "cell_type": "code",
   "execution_count": 235,
   "metadata": {},
   "outputs": [],
   "source": [
    "x_train,x_test,y_train,y_test=train_test_split(x,y,train_size=0.8,random_state=42) # to split train and test data"
   ]
  },
  {
   "cell_type": "code",
   "execution_count": 236,
   "metadata": {},
   "outputs": [
    {
     "data": {
      "image/png": "[encoded data removed]",
      "text/plain": [
       "<Figure size 432x288 with 1 Axes>"
      ]
     },
     "metadata": {
      "needs_background": "light"
     },
     "output_type": "display_data"
    },
    {
     "data": {
      "image/png": "[encoded data removed]",
      "text/plain": [
       "<Figure size 432x288 with 1 Axes>"
      ]
     },
     "metadata": {
      "needs_background": "light"
     },
     "output_type": "display_data"
    }
   ],
   "source": [
    "plt.scatter(x_test,y_test,color='r',label='test')\n",
    "plt.legend()\n",
    "plt.show()\n",
    "plt.scatter(x_train,y_train,color='b',label='train')\n",
    "plt.legend()\n",
    "plt.show()"
   ]
  },
  {
   "cell_type": "code",
   "execution_count": 237,
   "metadata": {},
   "outputs": [],
   "source": [
    "class linear():   #Linear Regression Class\n",
    "    def __init__(self):\n",
    "                 self.w=np.random.rand()\n",
    "                 self.b=0\n",
    "                    \n",
    "    def hypothesis(self,x):\n",
    "          return self.w*x + self.b\n",
    "        \n",
    "    def loss(self,X,Y):\n",
    "            costvalue=(1/2)*np.sum((self.hypothesis(X)-Y)**2)\n",
    "            return costvalue\n",
    "    \n",
    "    def fit(self,X,Y,lr=0.001,epochs=1000):\n",
    "                cost_list=list()\n",
    "                for i in range(1,epochs+1):\n",
    "                            dw,db=0,0\n",
    "                            y_pred=self.hypothesis(X)\n",
    "                            cost=self.loss(X,Y)\n",
    "                            cost_list.append(cost)\n",
    "                            if(cost>0):\n",
    "                                    dw=np.sum((y_pred-Y)*X)\n",
    "                                    db=np.sum((y_pred-Y))\n",
    "                                    self.w-= lr*dw/len(X)\n",
    "                                    self.b-= lr*db/len(X)\n",
    "                            else:\n",
    "                                 break\n",
    "                            \n",
    "                plt.plot(range(1,epochs+1),cost_list,c='b',linestyle='dashed')\n",
    "                plt.show()\n",
    "                \n",
    "                return (self.w,self.b)\n",
    "            \n",
    "    \n",
    "    def predict(self,X):\n",
    "            y_pred=list()\n",
    "            for x in X:\n",
    "                          y_p=self.hypothesis(x)\n",
    "                          y_pred.append(y_p)\n",
    "            predicted= np.array(y_pred).reshape(-1,1)\n",
    "            return predicted.flatten()  \n",
    "        \n",
    "    \n",
    "           \n",
    "    \n",
    "              "
   ]
  },
  {
   "cell_type": "code",
   "execution_count": 238,
   "metadata": {},
   "outputs": [
    {
     "data": {
      "image/png": "[encoded data removed]",
      "text/plain": [
       "<Figure size 432x288 with 1 Axes>"
      ]
     },
     "metadata": {
      "needs_background": "light"
     },
     "output_type": "display_data"
    }
   ],
   "source": [
    "obj=linear()\n",
    "w,b=obj.fit(x_train,y_train,lr=0.0001,epochs=500)\n"
   ]
  },
  {
   "cell_type": "code",
   "execution_count": 239,
   "metadata": {},
   "outputs": [],
   "source": [
    "predict=obj.predict(x_test)"
   ]
  },
  {
   "cell_type": "code",
   "execution_count": 240,
   "metadata": {},
   "outputs": [
    {
     "data": {
      "text/plain": [
       "(140,)"
      ]
     },
     "execution_count": 240,
     "metadata": {},
     "output_type": "execute_result"
    }
   ],
   "source": [
    "predict.shape"
   ]
  },
  {
   "cell_type": "code",
   "execution_count": 241,
   "metadata": {},
   "outputs": [
    {
     "data": {
      "text/plain": [
       "<matplotlib.legend.Legend at 0x1d01d4c57c0>"
      ]
     },
     "execution_count": 241,
     "metadata": {},
     "output_type": "execute_result"
    },
    {
     "data": {
      "image/png": "[encoded data removed]",
      "text/plain": [
       "<Figure size 432x288 with 1 Axes>"
      ]
     },
     "metadata": {
      "needs_background": "light"
     },
     "output_type": "display_data"
    }
   ],
   "source": [
    "plt.scatter(x_test,y_test,color='y',label='Data')\n",
    "plt.plot(x_test,predict,color='r',label='best-fit')\n",
    "plt.legend()"
   ]
  },
  {
   "cell_type": "code",
   "execution_count": 242,
   "metadata": {},
   "outputs": [
    {
     "data": {
      "text/html": [
       "<div>\n",
       "<style scoped>\n",
       "    .dataframe tbody tr th:only-of-type {\n",
       "        vertical-align: middle;\n",
       "    }\n",
       "\n",
       "    .dataframe tbody tr th {\n",
       "        vertical-align: top;\n",
       "    }\n",
       "\n",
       "    .dataframe thead th {\n",
       "        text-align: right;\n",
       "    }\n",
       "</style>\n",
       "<table border=\"1\" class=\"dataframe\">\n",
       "  <thead>\n",
       "    <tr style=\"text-align: right;\">\n",
       "      <th></th>\n",
       "      <th>act</th>\n",
       "      <th>pred</th>\n",
       "    </tr>\n",
       "  </thead>\n",
       "  <tbody>\n",
       "    <tr>\n",
       "      <th>158</th>\n",
       "      <td>96.623279</td>\n",
       "      <td>99.977505</td>\n",
       "    </tr>\n",
       "    <tr>\n",
       "      <th>500</th>\n",
       "      <td>94.296334</td>\n",
       "      <td>96.978224</td>\n",
       "    </tr>\n",
       "    <tr>\n",
       "      <th>397</th>\n",
       "      <td>14.558961</td>\n",
       "      <td>11.998584</td>\n",
       "    </tr>\n",
       "    <tr>\n",
       "      <th>155</th>\n",
       "      <td>86.821321</td>\n",
       "      <td>85.980859</td>\n",
       "    </tr>\n",
       "    <tr>\n",
       "      <th>322</th>\n",
       "      <td>94.367790</td>\n",
       "      <td>90.979661</td>\n",
       "    </tr>\n",
       "    <tr>\n",
       "      <th>...</th>\n",
       "      <td>...</td>\n",
       "      <td>...</td>\n",
       "    </tr>\n",
       "    <tr>\n",
       "      <th>24</th>\n",
       "      <td>83.027722</td>\n",
       "      <td>83.981338</td>\n",
       "    </tr>\n",
       "    <tr>\n",
       "      <th>219</th>\n",
       "      <td>43.647650</td>\n",
       "      <td>41.991398</td>\n",
       "    </tr>\n",
       "    <tr>\n",
       "      <th>432</th>\n",
       "      <td>34.072783</td>\n",
       "      <td>28.994512</td>\n",
       "    </tr>\n",
       "    <tr>\n",
       "      <th>282</th>\n",
       "      <td>44.981034</td>\n",
       "      <td>43.990919</td>\n",
       "    </tr>\n",
       "    <tr>\n",
       "      <th>110</th>\n",
       "      <td>50.617284</td>\n",
       "      <td>48.989722</td>\n",
       "    </tr>\n",
       "  </tbody>\n",
       "</table>\n",
       "<p>140 rows × 2 columns</p>\n",
       "</div>"
      ],
      "text/plain": [
       "           act       pred\n",
       "158  96.623279  99.977505\n",
       "500  94.296334  96.978224\n",
       "397  14.558961  11.998584\n",
       "155  86.821321  85.980859\n",
       "322  94.367790  90.979661\n",
       "..         ...        ...\n",
       "24   83.027722  83.981338\n",
       "219  43.647650  41.991398\n",
       "432  34.072783  28.994512\n",
       "282  44.981034  43.990919\n",
       "110  50.617284  48.989722\n",
       "\n",
       "[140 rows x 2 columns]"
      ]
     },
     "execution_count": 242,
     "metadata": {},
     "output_type": "execute_result"
    }
   ],
   "source": [
    "Compare_data=pd.DataFrame({\"act\":y_test,\"pred\":predict})\n",
    "Compare_data"
   ]
  },
  {
   "cell_type": "code",
   "execution_count": 243,
   "metadata": {},
   "outputs": [
    {
     "data": {
      "text/plain": [
       "7.758887921309825"
      ]
     },
     "execution_count": 243,
     "metadata": {},
     "output_type": "execute_result"
    }
   ],
   "source": [
    "error=mean_squared_error(predict,y_test)  # metric to calculate error value\n",
    "error"
   ]
  },
  {
   "cell_type": "code",
   "execution_count": null,
   "metadata": {},
   "outputs": [],
   "source": []
  }
 ],
 "metadata": {
  "kernelspec": {
   "display_name": "Python 3",
   "language": "python",
   "name": "python3"
  },
  "language_info": {
   "codemirror_mode": {
    "name": "ipython",
    "version": 3
   },
   "file_extension": ".py",
   "mimetype": "text/x-python",
   "name": "python",
   "nbconvert_exporter": "python",
   "pygments_lexer": "ipython3",
   "version": "3.8.5"
  }
 },
 "nbformat": 4,
 "nbformat_minor": 4
}
